{
 "cells": [
  {
   "cell_type": "code",
   "execution_count": 1,
   "id": "d1e395d1",
   "metadata": {},
   "outputs": [
    {
     "name": "stderr",
     "output_type": "stream",
     "text": [
      "/Users/vovasenev/miniconda3/envs/dla/lib/python3.10/site-packages/tqdm/auto.py:21: TqdmWarning: IProgress not found. Please update jupyter and ipywidgets. See https://ipywidgets.readthedocs.io/en/stable/user_install.html\n",
      "  from .autonotebook import tqdm as notebook_tqdm\n",
      "/Users/vovasenev/miniconda3/envs/dla/lib/python3.10/site-packages/torchaudio/functional/functional.py:584: UserWarning: At least one mel filterbank has all zero values. The value for `n_mels` (128) may be set too high. Or, the value for `n_freqs` (201) may be set too low.\n",
      "  warnings.warn(\n"
     ]
    }
   ],
   "source": [
    "from src.datasets.librispeech_dataset import LibrispeechDataset\n",
    "from src.text_encoder.ctc_text_encoder import CTCTextEncoder\n",
    "import torchaudio\n",
    "\n",
    "dataset = LibrispeechDataset(\"test-clean\", text_encoder=CTCTextEncoder(), instance_transforms={\n",
    "    \"get_spectrogram\": torchaudio.transforms.MelSpectrogram(sample_rate=16000)\n",
    "})"
   ]
  },
  {
   "cell_type": "code",
   "execution_count": 2,
   "id": "69de0baf",
   "metadata": {},
   "outputs": [
    {
     "data": {
      "text/plain": [
       "559280"
      ]
     },
     "execution_count": 2,
     "metadata": {},
     "output_type": "execute_result"
    }
   ],
   "source": [
    "max([len(i['audio'][0]) for i in dataset])"
   ]
  },
  {
   "cell_type": "code",
   "execution_count": 2,
   "id": "ebca30c1",
   "metadata": {},
   "outputs": [
    {
     "data": {
      "text/plain": [
       "{'audio': tensor([[ 0.0015,  0.0020,  0.0016,  ..., -0.0060, -0.0162, -0.0254]]),\n",
       " 'spectrogram': tensor([[[0.0000e+00, 0.0000e+00, 0.0000e+00,  ..., 0.0000e+00,\n",
       "           0.0000e+00, 0.0000e+00],\n",
       "          [4.3127e-03, 6.9828e-03, 1.7415e-03,  ..., 2.9436e-01,\n",
       "           1.4783e-01, 2.1176e-01],\n",
       "          [2.3221e-02, 3.7597e-02, 9.3769e-03,  ..., 1.5849e+00,\n",
       "           7.9596e-01, 1.1402e+00],\n",
       "          ...,\n",
       "          [3.9871e-05, 1.8696e-05, 4.0781e-05,  ..., 2.2813e-05,\n",
       "           7.9833e-05, 6.3455e-05],\n",
       "          [1.0160e-05, 3.7172e-05, 2.6600e-05,  ..., 1.0153e-04,\n",
       "           1.7639e-04, 9.2710e-05],\n",
       "          [6.5683e-06, 3.3872e-05, 1.6014e-05,  ..., 1.1362e-04,\n",
       "           2.4385e-04, 1.1336e-04]]]),\n",
       " 'text': 'a story',\n",
       " 'text_encoded': tensor([[ 1., 27., 19., 20., 15., 18., 25.]]),\n",
       " 'audio_path': '/Users/vovasenev/hse/DLA/asr/data/datasets/librispeech/test-clean/672/122797/672-122797-0033.flac'}"
      ]
     },
     "execution_count": 2,
     "metadata": {},
     "output_type": "execute_result"
    }
   ],
   "source": [
    "dataset[0]"
   ]
  },
  {
   "cell_type": "code",
   "execution_count": null,
   "id": "2666da99",
   "metadata": {},
   "outputs": [],
   "source": []
  }
 ],
 "metadata": {
  "kernelspec": {
   "display_name": "dla",
   "language": "python",
   "name": "python3"
  },
  "language_info": {
   "codemirror_mode": {
    "name": "ipython",
    "version": 3
   },
   "file_extension": ".py",
   "mimetype": "text/x-python",
   "name": "python",
   "nbconvert_exporter": "python",
   "pygments_lexer": "ipython3",
   "version": "3.10.18"
  }
 },
 "nbformat": 4,
 "nbformat_minor": 5
}
