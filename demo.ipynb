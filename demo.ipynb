{
  "cells": [
    {
      "cell_type": "markdown",
      "metadata": {
        "id": "0-vk5wWSD_5w"
      },
      "source": [
        "# ASR RNN-T Demo Notebook\n",
        "\n",
        "## 1. Repository Setup and Installation"
      ]
    },
    {
      "cell_type": "code",
      "execution_count": 1,
      "metadata": {
        "colab": {
          "base_uri": "https://localhost:8080/"
        },
        "id": "HwnoK4GoD_5x",
        "outputId": "d5c0ecbb-3359-4d07-e195-41ea5ec90fea"
      },
      "outputs": [
        {
          "name": "stdout",
          "output_type": "stream",
          "text": [
            "Cloning into 'asr-rnn-t'...\n",
            "remote: Enumerating objects: 501, done.\u001b[K\n",
            "remote: Counting objects: 100% (501/501), done.\u001b[K\n",
            "remote: Compressing objects: 100% (308/308), done.\u001b[K\n",
            "remote: Total 501 (delta 268), reused 402 (delta 169), pack-reused 0 (from 0)\u001b[K\n",
            "Receiving objects: 100% (501/501), 9.38 MiB | 6.31 MiB/s, done.\n",
            "Resolving deltas: 100% (268/268), done.\n"
          ]
        }
      ],
      "source": [
        "!git clone https://github.com/rerum-nn/asr-rnn-t.git\n",
        "!cd asr-rnn-t"
      ]
    },
    {
      "cell_type": "code",
      "execution_count": 2,
      "metadata": {
        "colab": {
          "base_uri": "https://localhost:8080/"
        },
        "id": "ZOnhjvE-D_5x",
        "outputId": "3d646274-e6a8-4ffb-dfa4-17f23401eed6"
      },
      "outputs": [
        {
          "name": "stdout",
          "output_type": "stream",
          "text": [
            "/content/asr-rnn-t\n",
            "/content/asr-rnn-t\n",
            "total 108\n",
            "drwxr-xr-x  4 root root  4096 Oct 18 20:43 .\n",
            "drwxr-xr-x  1 root root  4096 Oct 18 20:43 ..\n",
            "-rw-r--r--  1 root root  3238 Oct 18 20:43 augmentation_demo.py\n",
            "-rw-r--r--  1 root root  2260 Oct 18 20:43 bpe.model\n",
            "-rw-r--r--  1 root root  8617 Oct 18 20:43 calc_metrics.py\n",
            "-rw-r--r--  1 root root 22017 Oct 18 20:43 demo.ipynb\n",
            "-rw-r--r--  1 root root   147 Oct 18 20:43 .flake8\n",
            "drwxr-xr-x  8 root root  4096 Oct 18 20:43 .git\n",
            "-rw-r--r--  1 root root  1318 Oct 18 20:43 .gitignore\n",
            "-rw-r--r--  1 root root  2482 Oct 18 20:43 inference.py\n",
            "-rw-r--r--  1 root root  1073 Oct 18 20:43 LICENSE\n",
            "-rw-r--r--  1 root root  4487 Oct 18 20:43 normalization_params_clean.json\n",
            "-rw-r--r--  1 root root  4466 Oct 18 20:43 normalization_params_other.json\n",
            "-rw-r--r--  1 root root   771 Oct 18 20:43 .pre-commit-config.yaml\n",
            "-rw-r--r--  1 root root  3233 Oct 18 20:43 README.md\n",
            "-rw-r--r--  1 root root   255 Oct 18 20:43 requirements.txt\n",
            "drwxr-xr-x 12 root root  4096 Oct 18 20:43 src\n",
            "-rw-r--r--  1 root root  2921 Oct 18 20:43 train.py\n"
          ]
        }
      ],
      "source": [
        "%cd asr-rnn-t\n",
        "\n",
        "!pwd\n",
        "!ls -la"
      ]
    },
    {
      "cell_type": "code",
      "execution_count": 3,
      "metadata": {
        "colab": {
          "base_uri": "https://localhost:8080/"
        },
        "id": "gCnheLQoD_5x",
        "outputId": "f0b11278-e05a-46ce-fe56-948582817f19"
      },
      "outputs": [
        {
          "name": "stdout",
          "output_type": "stream",
          "text": [
            "Requirement already satisfied: torch==2.2.0 in /usr/local/lib/python3.12/dist-packages (from -r requirements.txt (line 1)) (2.2.0)\n",
            "Requirement already satisfied: torchvision==0.17.0 in /usr/local/lib/python3.12/dist-packages (from -r requirements.txt (line 2)) (0.17.0)\n",
            "Requirement already satisfied: torchaudio==2.2.0 in /usr/local/lib/python3.12/dist-packages (from -r requirements.txt (line 3)) (2.2.0)\n",
            "Requirement already satisfied: datasets in /usr/local/lib/python3.12/dist-packages (from -r requirements.txt (line 4)) (4.0.0)\n",
            "Requirement already satisfied: pytest in /usr/local/lib/python3.12/dist-packages (from -r requirements.txt (line 5)) (8.4.2)\n",
            "Requirement already satisfied: wget in /usr/local/lib/python3.12/dist-packages (from -r requirements.txt (line 6)) (3.2)\n",
            "Requirement already satisfied: soundfile in /usr/local/lib/python3.12/dist-packages (from -r requirements.txt (line 7)) (0.13.1)\n",
            "Requirement already satisfied: numpy==1.26.4 in /usr/local/lib/python3.12/dist-packages (from -r requirements.txt (line 8)) (1.26.4)\n",
            "Requirement already satisfied: scipy in /usr/local/lib/python3.12/dist-packages (from -r requirements.txt (line 9)) (1.16.2)\n",
            "Requirement already satisfied: torch_audiomentations in /usr/local/lib/python3.12/dist-packages (from -r requirements.txt (line 10)) (0.12.0)\n",
            "Requirement already satisfied: tqdm in /usr/local/lib/python3.12/dist-packages (from -r requirements.txt (line 11)) (4.67.1)\n",
            "Requirement already satisfied: matplotlib in /usr/local/lib/python3.12/dist-packages (from -r requirements.txt (line 12)) (3.10.0)\n",
            "Requirement already satisfied: pandas in /usr/local/lib/python3.12/dist-packages (from -r requirements.txt (line 13)) (2.2.2)\n",
            "Requirement already satisfied: wandb in /usr/local/lib/python3.12/dist-packages (from -r requirements.txt (line 14)) (0.22.2)\n",
            "Requirement already satisfied: comet_ml in /usr/local/lib/python3.12/dist-packages (from -r requirements.txt (line 15)) (3.53.2)\n",
            "Requirement already satisfied: editdistance in /usr/local/lib/python3.12/dist-packages (from -r requirements.txt (line 16)) (0.8.1)\n",
            "Requirement already satisfied: gdown in /usr/local/lib/python3.12/dist-packages (from -r requirements.txt (line 17)) (5.2.0)\n",
            "Requirement already satisfied: huggingface_hub in /usr/local/lib/python3.12/dist-packages (from -r requirements.txt (line 19)) (0.35.3)\n",
            "Requirement already satisfied: librosa in /usr/local/lib/python3.12/dist-packages (from -r requirements.txt (line 20)) (0.11.0)\n",
            "Requirement already satisfied: hydra-core in /usr/local/lib/python3.12/dist-packages (from -r requirements.txt (line 21)) (1.3.2)\n",
            "Requirement already satisfied: black in /usr/local/lib/python3.12/dist-packages (from -r requirements.txt (line 23)) (25.9.0)\n",
            "Requirement already satisfied: isort in /usr/local/lib/python3.12/dist-packages (from -r requirements.txt (line 24)) (7.0.0)\n",
            "Requirement already satisfied: pre-commit in /usr/local/lib/python3.12/dist-packages (from -r requirements.txt (line 25)) (4.3.0)\n",
            "Requirement already satisfied: filelock in /usr/local/lib/python3.12/dist-packages (from torch==2.2.0->-r requirements.txt (line 1)) (3.20.0)\n",
            "Requirement already satisfied: typing-extensions>=4.8.0 in /usr/local/lib/python3.12/dist-packages (from torch==2.2.0->-r requirements.txt (line 1)) (4.15.0)\n",
            "Requirement already satisfied: sympy in /usr/local/lib/python3.12/dist-packages (from torch==2.2.0->-r requirements.txt (line 1)) (1.13.3)\n",
            "Requirement already satisfied: networkx in /usr/local/lib/python3.12/dist-packages (from torch==2.2.0->-r requirements.txt (line 1)) (3.5)\n",
            "Requirement already satisfied: jinja2 in /usr/local/lib/python3.12/dist-packages (from torch==2.2.0->-r requirements.txt (line 1)) (3.1.6)\n",
            "Requirement already satisfied: fsspec in /usr/local/lib/python3.12/dist-packages (from torch==2.2.0->-r requirements.txt (line 1)) (2025.3.0)\n",
            "Requirement already satisfied: nvidia-cuda-nvrtc-cu12==12.1.105 in /usr/local/lib/python3.12/dist-packages (from torch==2.2.0->-r requirements.txt (line 1)) (12.1.105)\n",
            "Requirement already satisfied: nvidia-cuda-runtime-cu12==12.1.105 in /usr/local/lib/python3.12/dist-packages (from torch==2.2.0->-r requirements.txt (line 1)) (12.1.105)\n",
            "Requirement already satisfied: nvidia-cuda-cupti-cu12==12.1.105 in /usr/local/lib/python3.12/dist-packages (from torch==2.2.0->-r requirements.txt (line 1)) (12.1.105)\n",
            "Requirement already satisfied: nvidia-cudnn-cu12==8.9.2.26 in /usr/local/lib/python3.12/dist-packages (from torch==2.2.0->-r requirements.txt (line 1)) (8.9.2.26)\n",
            "Requirement already satisfied: nvidia-cublas-cu12==12.1.3.1 in /usr/local/lib/python3.12/dist-packages (from torch==2.2.0->-r requirements.txt (line 1)) (12.1.3.1)\n",
            "Requirement already satisfied: nvidia-cufft-cu12==11.0.2.54 in /usr/local/lib/python3.12/dist-packages (from torch==2.2.0->-r requirements.txt (line 1)) (11.0.2.54)\n",
            "Requirement already satisfied: nvidia-curand-cu12==10.3.2.106 in /usr/local/lib/python3.12/dist-packages (from torch==2.2.0->-r requirements.txt (line 1)) (10.3.2.106)\n",
            "Requirement already satisfied: nvidia-cusolver-cu12==11.4.5.107 in /usr/local/lib/python3.12/dist-packages (from torch==2.2.0->-r requirements.txt (line 1)) (11.4.5.107)\n",
            "Requirement already satisfied: nvidia-cusparse-cu12==12.1.0.106 in /usr/local/lib/python3.12/dist-packages (from torch==2.2.0->-r requirements.txt (line 1)) (12.1.0.106)\n",
            "Requirement already satisfied: nvidia-nccl-cu12==2.19.3 in /usr/local/lib/python3.12/dist-packages (from torch==2.2.0->-r requirements.txt (line 1)) (2.19.3)\n",
            "Requirement already satisfied: nvidia-nvtx-cu12==12.1.105 in /usr/local/lib/python3.12/dist-packages (from torch==2.2.0->-r requirements.txt (line 1)) (12.1.105)\n",
            "Requirement already satisfied: triton==2.2.0 in /usr/local/lib/python3.12/dist-packages (from torch==2.2.0->-r requirements.txt (line 1)) (2.2.0)\n",
            "Requirement already satisfied: requests in /usr/local/lib/python3.12/dist-packages (from torchvision==0.17.0->-r requirements.txt (line 2)) (2.32.4)\n",
            "Requirement already satisfied: pillow!=8.3.*,>=5.3.0 in /usr/local/lib/python3.12/dist-packages (from torchvision==0.17.0->-r requirements.txt (line 2)) (11.3.0)\n",
            "Requirement already satisfied: nvidia-nvjitlink-cu12 in /usr/local/lib/python3.12/dist-packages (from nvidia-cusolver-cu12==11.4.5.107->torch==2.2.0->-r requirements.txt (line 1)) (12.6.85)\n",
            "Requirement already satisfied: pyarrow>=15.0.0 in /usr/local/lib/python3.12/dist-packages (from datasets->-r requirements.txt (line 4)) (18.1.0)\n",
            "Requirement already satisfied: dill<0.3.9,>=0.3.0 in /usr/local/lib/python3.12/dist-packages (from datasets->-r requirements.txt (line 4)) (0.3.8)\n",
            "Requirement already satisfied: xxhash in /usr/local/lib/python3.12/dist-packages (from datasets->-r requirements.txt (line 4)) (3.6.0)\n",
            "Requirement already satisfied: multiprocess<0.70.17 in /usr/local/lib/python3.12/dist-packages (from datasets->-r requirements.txt (line 4)) (0.70.16)\n",
            "Requirement already satisfied: packaging in /usr/local/lib/python3.12/dist-packages (from datasets->-r requirements.txt (line 4)) (25.0)\n",
            "Requirement already satisfied: pyyaml>=5.1 in /usr/local/lib/python3.12/dist-packages (from datasets->-r requirements.txt (line 4)) (6.0.3)\n",
            "Requirement already satisfied: iniconfig>=1 in /usr/local/lib/python3.12/dist-packages (from pytest->-r requirements.txt (line 5)) (2.1.0)\n",
            "Requirement already satisfied: pluggy<2,>=1.5 in /usr/local/lib/python3.12/dist-packages (from pytest->-r requirements.txt (line 5)) (1.6.0)\n",
            "Requirement already satisfied: pygments>=2.7.2 in /usr/local/lib/python3.12/dist-packages (from pytest->-r requirements.txt (line 5)) (2.19.2)\n",
            "Requirement already satisfied: cffi>=1.0 in /usr/local/lib/python3.12/dist-packages (from soundfile->-r requirements.txt (line 7)) (2.0.0)\n",
            "Requirement already satisfied: julius<0.3,>=0.2.3 in /usr/local/lib/python3.12/dist-packages (from torch_audiomentations->-r requirements.txt (line 10)) (0.2.7)\n",
            "Requirement already satisfied: torch-pitch-shift>=1.2.2 in /usr/local/lib/python3.12/dist-packages (from torch_audiomentations->-r requirements.txt (line 10)) (1.2.5)\n",
            "Requirement already satisfied: contourpy>=1.0.1 in /usr/local/lib/python3.12/dist-packages (from matplotlib->-r requirements.txt (line 12)) (1.3.3)\n",
            "Requirement already satisfied: cycler>=0.10 in /usr/local/lib/python3.12/dist-packages (from matplotlib->-r requirements.txt (line 12)) (0.12.1)\n",
            "Requirement already satisfied: fonttools>=4.22.0 in /usr/local/lib/python3.12/dist-packages (from matplotlib->-r requirements.txt (line 12)) (4.60.1)\n",
            "Requirement already satisfied: kiwisolver>=1.3.1 in /usr/local/lib/python3.12/dist-packages (from matplotlib->-r requirements.txt (line 12)) (1.4.9)\n",
            "Requirement already satisfied: pyparsing>=2.3.1 in /usr/local/lib/python3.12/dist-packages (from matplotlib->-r requirements.txt (line 12)) (3.2.5)\n",
            "Requirement already satisfied: python-dateutil>=2.7 in /usr/local/lib/python3.12/dist-packages (from matplotlib->-r requirements.txt (line 12)) (2.9.0.post0)\n",
            "Requirement already satisfied: pytz>=2020.1 in /usr/local/lib/python3.12/dist-packages (from pandas->-r requirements.txt (line 13)) (2025.2)\n",
            "Requirement already satisfied: tzdata>=2022.7 in /usr/local/lib/python3.12/dist-packages (from pandas->-r requirements.txt (line 13)) (2025.2)\n",
            "Requirement already satisfied: click>=8.0.1 in /usr/local/lib/python3.12/dist-packages (from wandb->-r requirements.txt (line 14)) (8.3.0)\n",
            "Requirement already satisfied: gitpython!=3.1.29,>=1.0.0 in /usr/local/lib/python3.12/dist-packages (from wandb->-r requirements.txt (line 14)) (3.1.45)\n",
            "Requirement already satisfied: platformdirs in /usr/local/lib/python3.12/dist-packages (from wandb->-r requirements.txt (line 14)) (4.5.0)\n",
            "Requirement already satisfied: protobuf!=4.21.0,!=5.28.0,<7,>=3.19.0 in /usr/local/lib/python3.12/dist-packages (from wandb->-r requirements.txt (line 14)) (5.29.5)\n",
            "Requirement already satisfied: pydantic<3 in /usr/local/lib/python3.12/dist-packages (from wandb->-r requirements.txt (line 14)) (2.11.10)\n",
            "Requirement already satisfied: sentry-sdk>=2.0.0 in /usr/local/lib/python3.12/dist-packages (from wandb->-r requirements.txt (line 14)) (2.41.0)\n",
            "Requirement already satisfied: dulwich!=0.20.33,>=0.20.6 in /usr/local/lib/python3.12/dist-packages (from comet_ml->-r requirements.txt (line 15)) (0.24.5)\n",
            "Requirement already satisfied: everett<3.2.0,>=1.0.1 in /usr/local/lib/python3.12/dist-packages (from everett[ini]<3.2.0,>=1.0.1->comet_ml->-r requirements.txt (line 15)) (3.1.0)\n",
            "Requirement already satisfied: jsonschema!=3.1.0,>=2.6.0 in /usr/local/lib/python3.12/dist-packages (from comet_ml->-r requirements.txt (line 15)) (4.25.1)\n",
            "Requirement already satisfied: psutil>=5.6.3 in /usr/local/lib/python3.12/dist-packages (from comet_ml->-r requirements.txt (line 15)) (5.9.5)\n",
            "Requirement already satisfied: python-box<7.0.0 in /usr/local/lib/python3.12/dist-packages (from comet_ml->-r requirements.txt (line 15)) (6.1.0)\n",
            "Requirement already satisfied: requests-toolbelt>=0.8.0 in /usr/local/lib/python3.12/dist-packages (from comet_ml->-r requirements.txt (line 15)) (1.0.0)\n",
            "Requirement already satisfied: rich>=13.3.2 in /usr/local/lib/python3.12/dist-packages (from comet_ml->-r requirements.txt (line 15)) (13.9.4)\n",
            "Requirement already satisfied: semantic-version>=2.8.0 in /usr/local/lib/python3.12/dist-packages (from comet_ml->-r requirements.txt (line 15)) (2.10.0)\n",
            "Requirement already satisfied: setuptools in /usr/local/lib/python3.12/dist-packages (from comet_ml->-r requirements.txt (line 15)) (75.2.0)\n",
            "Requirement already satisfied: simplejson in /usr/local/lib/python3.12/dist-packages (from comet_ml->-r requirements.txt (line 15)) (3.20.2)\n",
            "Requirement already satisfied: urllib3>=1.26.8 in /usr/local/lib/python3.12/dist-packages (from comet_ml->-r requirements.txt (line 15)) (2.5.0)\n",
            "Requirement already satisfied: wrapt>=1.11.2 in /usr/local/lib/python3.12/dist-packages (from comet_ml->-r requirements.txt (line 15)) (1.17.3)\n",
            "Requirement already satisfied: wurlitzer>=1.0.2 in /usr/local/lib/python3.12/dist-packages (from comet_ml->-r requirements.txt (line 15)) (3.1.1)\n",
            "Requirement already satisfied: beautifulsoup4 in /usr/local/lib/python3.12/dist-packages (from gdown->-r requirements.txt (line 17)) (4.13.5)\n",
            "Requirement already satisfied: hf-xet<2.0.0,>=1.1.3 in /usr/local/lib/python3.12/dist-packages (from huggingface_hub->-r requirements.txt (line 19)) (1.1.10)\n",
            "Requirement already satisfied: audioread>=2.1.9 in /usr/local/lib/python3.12/dist-packages (from librosa->-r requirements.txt (line 20)) (3.0.1)\n",
            "Requirement already satisfied: numba>=0.51.0 in /usr/local/lib/python3.12/dist-packages (from librosa->-r requirements.txt (line 20)) (0.60.0)\n",
            "Requirement already satisfied: scikit-learn>=1.1.0 in /usr/local/lib/python3.12/dist-packages (from librosa->-r requirements.txt (line 20)) (1.6.1)\n",
            "Requirement already satisfied: joblib>=1.0 in /usr/local/lib/python3.12/dist-packages (from librosa->-r requirements.txt (line 20)) (1.5.2)\n",
            "Requirement already satisfied: decorator>=4.3.0 in /usr/local/lib/python3.12/dist-packages (from librosa->-r requirements.txt (line 20)) (4.4.2)\n",
            "Requirement already satisfied: pooch>=1.1 in /usr/local/lib/python3.12/dist-packages (from librosa->-r requirements.txt (line 20)) (1.8.2)\n",
            "Requirement already satisfied: soxr>=0.3.2 in /usr/local/lib/python3.12/dist-packages (from librosa->-r requirements.txt (line 20)) (1.0.0)\n",
            "Requirement already satisfied: lazy_loader>=0.1 in /usr/local/lib/python3.12/dist-packages (from librosa->-r requirements.txt (line 20)) (0.4)\n",
            "Requirement already satisfied: msgpack>=1.0 in /usr/local/lib/python3.12/dist-packages (from librosa->-r requirements.txt (line 20)) (1.1.2)\n",
            "Requirement already satisfied: omegaconf<2.4,>=2.2 in /usr/local/lib/python3.12/dist-packages (from hydra-core->-r requirements.txt (line 21)) (2.3.0)\n",
            "Requirement already satisfied: antlr4-python3-runtime==4.9.* in /usr/local/lib/python3.12/dist-packages (from hydra-core->-r requirements.txt (line 21)) (4.9.3)\n",
            "Requirement already satisfied: mypy-extensions>=0.4.3 in /usr/local/lib/python3.12/dist-packages (from black->-r requirements.txt (line 23)) (1.1.0)\n",
            "Requirement already satisfied: pathspec>=0.9.0 in /usr/local/lib/python3.12/dist-packages (from black->-r requirements.txt (line 23)) (0.12.1)\n",
            "Requirement already satisfied: pytokens>=0.1.10 in /usr/local/lib/python3.12/dist-packages (from black->-r requirements.txt (line 23)) (0.2.0)\n",
            "Requirement already satisfied: cfgv>=2.0.0 in /usr/local/lib/python3.12/dist-packages (from pre-commit->-r requirements.txt (line 25)) (3.4.0)\n",
            "Requirement already satisfied: identify>=1.0.0 in /usr/local/lib/python3.12/dist-packages (from pre-commit->-r requirements.txt (line 25)) (2.6.15)\n",
            "Requirement already satisfied: nodeenv>=0.11.1 in /usr/local/lib/python3.12/dist-packages (from pre-commit->-r requirements.txt (line 25)) (1.9.1)\n",
            "Requirement already satisfied: virtualenv>=20.10.0 in /usr/local/lib/python3.12/dist-packages (from pre-commit->-r requirements.txt (line 25)) (20.35.3)\n",
            "Requirement already satisfied: pycparser in /usr/local/lib/python3.12/dist-packages (from cffi>=1.0->soundfile->-r requirements.txt (line 7)) (2.23)\n",
            "Requirement already satisfied: configobj in /usr/local/lib/python3.12/dist-packages (from everett[ini]<3.2.0,>=1.0.1->comet_ml->-r requirements.txt (line 15)) (5.0.9)\n",
            "Requirement already satisfied: aiohttp!=4.0.0a0,!=4.0.0a1 in /usr/local/lib/python3.12/dist-packages (from fsspec[http]<=2025.3.0,>=2023.1.0->datasets->-r requirements.txt (line 4)) (3.13.0)\n",
            "Requirement already satisfied: gitdb<5,>=4.0.1 in /usr/local/lib/python3.12/dist-packages (from gitpython!=3.1.29,>=1.0.0->wandb->-r requirements.txt (line 14)) (4.0.12)\n",
            "Requirement already satisfied: attrs>=22.2.0 in /usr/local/lib/python3.12/dist-packages (from jsonschema!=3.1.0,>=2.6.0->comet_ml->-r requirements.txt (line 15)) (25.4.0)\n",
            "Requirement already satisfied: jsonschema-specifications>=2023.03.6 in /usr/local/lib/python3.12/dist-packages (from jsonschema!=3.1.0,>=2.6.0->comet_ml->-r requirements.txt (line 15)) (2025.9.1)\n",
            "Requirement already satisfied: referencing>=0.28.4 in /usr/local/lib/python3.12/dist-packages (from jsonschema!=3.1.0,>=2.6.0->comet_ml->-r requirements.txt (line 15)) (0.37.0)\n",
            "Requirement already satisfied: rpds-py>=0.7.1 in /usr/local/lib/python3.12/dist-packages (from jsonschema!=3.1.0,>=2.6.0->comet_ml->-r requirements.txt (line 15)) (0.27.1)\n",
            "Requirement already satisfied: llvmlite<0.44,>=0.43.0dev0 in /usr/local/lib/python3.12/dist-packages (from numba>=0.51.0->librosa->-r requirements.txt (line 20)) (0.43.0)\n",
            "Requirement already satisfied: annotated-types>=0.6.0 in /usr/local/lib/python3.12/dist-packages (from pydantic<3->wandb->-r requirements.txt (line 14)) (0.7.0)\n",
            "Requirement already satisfied: pydantic-core==2.33.2 in /usr/local/lib/python3.12/dist-packages (from pydantic<3->wandb->-r requirements.txt (line 14)) (2.33.2)\n",
            "Requirement already satisfied: typing-inspection>=0.4.0 in /usr/local/lib/python3.12/dist-packages (from pydantic<3->wandb->-r requirements.txt (line 14)) (0.4.2)\n",
            "Requirement already satisfied: six>=1.5 in /usr/local/lib/python3.12/dist-packages (from python-dateutil>=2.7->matplotlib->-r requirements.txt (line 12)) (1.17.0)\n",
            "Requirement already satisfied: charset_normalizer<4,>=2 in /usr/local/lib/python3.12/dist-packages (from requests->torchvision==0.17.0->-r requirements.txt (line 2)) (3.4.4)\n",
            "Requirement already satisfied: idna<4,>=2.5 in /usr/local/lib/python3.12/dist-packages (from requests->torchvision==0.17.0->-r requirements.txt (line 2)) (3.11)\n",
            "Requirement already satisfied: certifi>=2017.4.17 in /usr/local/lib/python3.12/dist-packages (from requests->torchvision==0.17.0->-r requirements.txt (line 2)) (2025.10.5)\n",
            "Requirement already satisfied: markdown-it-py>=2.2.0 in /usr/local/lib/python3.12/dist-packages (from rich>=13.3.2->comet_ml->-r requirements.txt (line 15)) (4.0.0)\n",
            "Requirement already satisfied: threadpoolctl>=3.1.0 in /usr/local/lib/python3.12/dist-packages (from scikit-learn>=1.1.0->librosa->-r requirements.txt (line 20)) (3.6.0)\n",
            "Requirement already satisfied: primePy>=1.3 in /usr/local/lib/python3.12/dist-packages (from torch-pitch-shift>=1.2.2->torch_audiomentations->-r requirements.txt (line 10)) (1.3)\n",
            "Requirement already satisfied: distlib<1,>=0.3.7 in /usr/local/lib/python3.12/dist-packages (from virtualenv>=20.10.0->pre-commit->-r requirements.txt (line 25)) (0.4.0)\n",
            "Requirement already satisfied: soupsieve>1.2 in /usr/local/lib/python3.12/dist-packages (from beautifulsoup4->gdown->-r requirements.txt (line 17)) (2.8)\n",
            "Requirement already satisfied: MarkupSafe>=2.0 in /usr/local/lib/python3.12/dist-packages (from jinja2->torch==2.2.0->-r requirements.txt (line 1)) (3.0.3)\n",
            "Requirement already satisfied: PySocks!=1.5.7,>=1.5.6 in /usr/local/lib/python3.12/dist-packages (from requests[socks]->gdown->-r requirements.txt (line 17)) (1.7.1)\n",
            "Requirement already satisfied: mpmath<1.4,>=1.1.0 in /usr/local/lib/python3.12/dist-packages (from sympy->torch==2.2.0->-r requirements.txt (line 1)) (1.3.0)\n",
            "Requirement already satisfied: aiohappyeyeballs>=2.5.0 in /usr/local/lib/python3.12/dist-packages (from aiohttp!=4.0.0a0,!=4.0.0a1->fsspec[http]<=2025.3.0,>=2023.1.0->datasets->-r requirements.txt (line 4)) (2.6.1)\n",
            "Requirement already satisfied: aiosignal>=1.4.0 in /usr/local/lib/python3.12/dist-packages (from aiohttp!=4.0.0a0,!=4.0.0a1->fsspec[http]<=2025.3.0,>=2023.1.0->datasets->-r requirements.txt (line 4)) (1.4.0)\n",
            "Requirement already satisfied: frozenlist>=1.1.1 in /usr/local/lib/python3.12/dist-packages (from aiohttp!=4.0.0a0,!=4.0.0a1->fsspec[http]<=2025.3.0,>=2023.1.0->datasets->-r requirements.txt (line 4)) (1.8.0)\n",
            "Requirement already satisfied: multidict<7.0,>=4.5 in /usr/local/lib/python3.12/dist-packages (from aiohttp!=4.0.0a0,!=4.0.0a1->fsspec[http]<=2025.3.0,>=2023.1.0->datasets->-r requirements.txt (line 4)) (6.7.0)\n",
            "Requirement already satisfied: propcache>=0.2.0 in /usr/local/lib/python3.12/dist-packages (from aiohttp!=4.0.0a0,!=4.0.0a1->fsspec[http]<=2025.3.0,>=2023.1.0->datasets->-r requirements.txt (line 4)) (0.4.1)\n",
            "Requirement already satisfied: yarl<2.0,>=1.17.0 in /usr/local/lib/python3.12/dist-packages (from aiohttp!=4.0.0a0,!=4.0.0a1->fsspec[http]<=2025.3.0,>=2023.1.0->datasets->-r requirements.txt (line 4)) (1.22.0)\n",
            "Requirement already satisfied: smmap<6,>=3.0.1 in /usr/local/lib/python3.12/dist-packages (from gitdb<5,>=4.0.1->gitpython!=3.1.29,>=1.0.0->wandb->-r requirements.txt (line 14)) (5.0.2)\n",
            "Requirement already satisfied: mdurl~=0.1 in /usr/local/lib/python3.12/dist-packages (from markdown-it-py>=2.2.0->rich>=13.3.2->comet_ml->-r requirements.txt (line 15)) (0.1.2)\n"
          ]
        }
      ],
      "source": [
        "%pip install -r requirements.txt"
      ]
    },
    {
      "cell_type": "code",
      "execution_count": null,
      "metadata": {},
      "outputs": [],
      "source": [
        "!pip install -e ."
      ]
    },
    {
      "cell_type": "code",
      "execution_count": 4,
      "metadata": {
        "colab": {
          "base_uri": "https://localhost:8080/"
        },
        "id": "aewqd1VCD_5x",
        "outputId": "9ee4ad1a-9985-4bb8-8028-1e58df93237b"
      },
      "outputs": [
        {
          "name": "stdout",
          "output_type": "stream",
          "text": [
            "CUDA available: True\n",
            "Python version: 3.12.12 (main, Oct 10 2025, 08:52:57) [GCC 11.4.0]\n"
          ]
        }
      ],
      "source": [
        "import torch\n",
        "import sys\n",
        "import os\n",
        "\n",
        "print(f\"CUDA available: {torch.cuda.is_available()}\")\n",
        "print(f\"Python version: {sys.version}\")\n",
        "\n",
        "CUSTOM_DATASET_URL = \"https://drive.google.com/file/d/1JRq9zOKZ9HmsMpsEeGnu8M6mL_tN3FXF/view?usp=sharing\""
      ]
    },
    {
      "cell_type": "markdown",
      "metadata": {
        "id": "yZwcfL_nD_5x"
      },
      "source": [
        "## 2. Download Pre-trained Model Checkpoints"
      ]
    },
    {
      "cell_type": "code",
      "execution_count": 2,
      "metadata": {
        "colab": {
          "base_uri": "https://localhost:8080/",
          "height": 405,
          "referenced_widgets": [
            "cc2c2c20674749ec93bb52dda187cbd6",
            "945c0c1c39294c99a57f46b53a802a18",
            "aeb8b93f9662497784261018cd49ac6e",
            "f506d4f0d5c24b08a03a0dd6fe1603bb",
            "7d40f060c8bb4f7e9ba796da81c599a5",
            "1ee5dd7256574b4185e978ab2e91a465",
            "7b658bd22c4748a2b73322db419c5bef",
            "31bc55dc37c140ceb66b840a2eae2a75",
            "c27adbf54546424cb68651d9ac29dcf1",
            "25403d1bd626438584a0c59c2c44e442",
            "a86ba4abb4904e4585be72dd3c5f11c6",
            "8f60169915644476ab40007fea383008",
            "f6da731e0e44491b8d115f050e78a2a2",
            "4daca33a98144a72a48d793ccd599f8c",
            "f7970314f0474b02a7b1205b22495fcd",
            "152c1b911d73480eb6779fcf444617ca",
            "ef548e9c257d49d0b7c444743b06f53e",
            "f99221a92a84488ea95b9a6fdc702eb6",
            "34fc9cb60a2249d6ae862a9c7e9228eb",
            "5da89824f9684e3da25ad4e592191b8e",
            "450cfa7175844c738d711c3fdd939f2b",
            "3b291cc2226c4615b2760cee789de28b"
          ]
        },
        "id": "Exd-7pPSD_5x",
        "outputId": "b6cb0d9f-1432-4175-c5f8-3b3e5b71587e"
      },
      "outputs": [
        {
          "name": "stderr",
          "output_type": "stream",
          "text": [
            "/home/ubuntu/miniconda3/envs/dla/lib/python3.10/site-packages/huggingface_hub/file_download.py:982: UserWarning: `local_dir_use_symlinks` parameter is deprecated and will be ignored. The process to download files to a local folder has been updated and do not rely on symlinks anymore. You only need to pass a destination folder as`local_dir`.\n",
            "For more details, check out https://huggingface.co/docs/huggingface_hub/main/en/guides/download#download-files-to-local-folder.\n",
            "  warnings.warn(\n"
          ]
        },
        {
          "name": "stdout",
          "output_type": "stream",
          "text": [
            "Downloaded: saved/conformer-rnn-t-small-other/model_best.pth\n",
            "Downloaded: saved/conformer-rnn-t-small-other/config.yaml\n",
            "total 222352\n",
            "drwxrwxr-x 3 ubuntu ubuntu      4096 Oct 19 20:13 .\n",
            "drwxrwxr-x 9 ubuntu ubuntu      4096 Oct 19 20:14 ..\n",
            "drwxrwxr-x 3 ubuntu ubuntu      4096 Oct 19 20:13 .cache\n",
            "-rw-rw-r-- 1 ubuntu ubuntu 110666434 Oct 17 02:26 checkpoint-epoch1.pth\n",
            "-rw-rw-r-- 1 ubuntu ubuntu      4117 Oct 19 20:13 config.yaml\n",
            "-rw-rw-r-- 1 ubuntu ubuntu        41 Oct 17 02:11 git_commit.txt\n",
            "-rw-rw-r-- 1 ubuntu ubuntu       677 Oct 17 02:11 git_diff.patch\n",
            "-rw-rw-r-- 1 ubuntu ubuntu      3762 Oct 17 02:26 info.log\n",
            "-rw-rw-r-- 1 ubuntu ubuntu 116979327 Oct 19 20:13 model_best.pth\n"
          ]
        }
      ],
      "source": [
        "import os\n",
        "from huggingface_hub import hf_hub_download\n",
        "\n",
        "os.makedirs(\"saved/conformer-rnn-t-small-other\", exist_ok=True)\n",
        "\n",
        "model_files = [\n",
        "    \"model_best.pth\",\n",
        "    \"config.yaml\"\n",
        "]\n",
        "\n",
        "for file_name in model_files:\n",
        "    file_path = hf_hub_download(\n",
        "        repo_id=\"Rerumnn/conformer-rnn-t\",\n",
        "        filename=file_name,\n",
        "        local_dir=\"saved/conformer-rnn-t-small-other\",\n",
        "        local_dir_use_symlinks=False\n",
        "    )\n",
        "    print(f\"Downloaded: {file_path}\")\n",
        "\n",
        "!ls -la saved/conformer-rnn-t-small/\n"
      ]
    },
    {
      "cell_type": "markdown",
      "metadata": {
        "id": "luqRpnygD_5y"
      },
      "source": [
        "## 3. Custom Dataset\n",
        "\n",
        "```\n",
        "YourDataset/\n",
        "├── audio/\n",
        "│   ├── utterance1.wav  # can be .flac, .mp3, .m4a, .ogg\n",
        "│   ├── utterance2.wav\n",
        "│   └── ...\n",
        "└── transcriptions/  # ground truth\n",
        "    ├── utterance1.txt\n",
        "    ├── utterance2.txt\n",
        "    └── ...\n",
        "```\n"
      ]
    },
    {
      "cell_type": "code",
      "execution_count": 8,
      "metadata": {
        "colab": {
          "base_uri": "https://localhost:8080/"
        },
        "id": "qUyr93UlD_5y",
        "outputId": "cd4185ca-04da-4a2c-b048-8ee27ce52f5d"
      },
      "outputs": [
        {
          "name": "stdout",
          "output_type": "stream",
          "text": [
            "Current URL: https://drive.google.com/file/d/1JRq9zOKZ9HmsMpsEeGnu8M6mL_tN3FXF/view?usp=sharing\n",
            "Downloading dataset from: https://drive.google.com/file/d/1JRq9zOKZ9HmsMpsEeGnu8M6mL_tN3FXF/view?usp=sharing\n"
          ]
        },
        {
          "name": "stderr",
          "output_type": "stream",
          "text": [
            "Downloading...\n",
            "From: https://drive.google.com/uc?id=1JRq9zOKZ9HmsMpsEeGnu8M6mL_tN3FXF\n",
            "To: /content/asr-rnn-t/data/datasets/custom_dataset/dataset.zip\n",
            "100%|██████████| 238k/238k [00:00<00:00, 3.84MB/s]"
          ]
        },
        {
          "name": "stdout",
          "output_type": "stream",
          "text": [
            "Extracting to: data/datasets/custom_dataset\n",
            "Dataset extracted to: data/datasets/custom_dataset\n"
          ]
        },
        {
          "name": "stderr",
          "output_type": "stream",
          "text": [
            "\n"
          ]
        }
      ],
      "source": [
        "import gdown\n",
        "import zipfile\n",
        "from pathlib import Path\n",
        "import os\n",
        "\n",
        "print(\"Current URL:\", CUSTOM_DATASET_URL)\n",
        "\n",
        "def download_and_extract_dataset(url, extract_to=\"data/datasets/custom_dataset\"):\n",
        "    extract_path = Path(extract_to)\n",
        "    extract_path.mkdir(parents=True, exist_ok=True)\n",
        "\n",
        "    print(f\"Downloading dataset from: {url}\")\n",
        "    zip_path = extract_path / \"dataset.zip\"\n",
        "\n",
        "    try:\n",
        "        if \"drive.google.com\" in url:\n",
        "            file_id = url.split('/')[-2] if '/file/d/' in url else url.split('id=')[1].split('&')[0]\n",
        "            download_url = f\"https://drive.google.com/uc?id={file_id}\"\n",
        "        else:\n",
        "            download_url = url\n",
        "\n",
        "        gdown.download(download_url, str(zip_path), quiet=False)\n",
        "\n",
        "        print(f\"Extracting to: {extract_path}\")\n",
        "        with zipfile.ZipFile(zip_path, 'r') as zip_ref:\n",
        "            zip_ref.extractall(extract_path)\n",
        "\n",
        "        zip_path.unlink()\n",
        "\n",
        "        print(f\"Dataset extracted to: {extract_path}\")\n",
        "        return extract_path\n",
        "\n",
        "    except Exception as e:\n",
        "        print(f\"Error downloading/extracting dataset: {e}\")\n",
        "        return None\n",
        "\n",
        "\n",
        "custom_dataset_path = download_and_extract_dataset(CUSTOM_DATASET_URL)\n",
        "custom_dataset_first_dir = next((item for item in os.listdir(custom_dataset_path)), None)"
      ]
    },
    {
      "cell_type": "code",
      "execution_count": 10,
      "metadata": {
        "colab": {
          "base_uri": "https://localhost:8080/",
          "height": 35
        },
        "id": "0ez91XGgFsFq",
        "outputId": "0326b727-9641-4616-8ec9-3fc3f9140fdc"
      },
      "outputs": [
        {
          "data": {
            "application/vnd.google.colaboratory.intrinsic+json": {
              "type": "string"
            },
            "text/plain": [
              "'librispeech_inference'"
            ]
          },
          "execution_count": 10,
          "metadata": {},
          "output_type": "execute_result"
        }
      ],
      "source": [
        "custom_dataset_first_dir"
      ]
    },
    {
      "cell_type": "code",
      "execution_count": 12,
      "metadata": {
        "colab": {
          "base_uri": "https://localhost:8080/"
        },
        "id": "Rz0ORB1_Ft-9",
        "outputId": "9c52cc45-a6f5-4c46-f93b-252e97ecb7f7"
      },
      "outputs": [
        {
          "data": {
            "text/plain": [
              "PosixPath('data/datasets/custom_dataset/librispeech_inference')"
            ]
          },
          "execution_count": 12,
          "metadata": {},
          "output_type": "execute_result"
        }
      ],
      "source": [
        "custom_dataset_path / custom_dataset_first_dir"
      ]
    },
    {
      "cell_type": "code",
      "execution_count": 13,
      "metadata": {
        "colab": {
          "base_uri": "https://localhost:8080/"
        },
        "id": "GVXLajX_D_5y",
        "outputId": "a931891e-1363-4486-81e9-42488c94c1b5"
      },
      "outputs": [
        {
          "name": "stdout",
          "output_type": "stream",
          "text": [
            "Running inference on custom dataset: librispeech_inference\n",
            "Found 10 audio files\n",
            "Found 10 transcription files\n",
            "Custom dataset inference failed:\n",
            "Traceback (most recent call last):\n",
            "  File \"/content/asr-rnn-t/inference.py\", line 8, in <module>\n",
            "    from src.datasets.data_utils import get_dataloaders\n",
            "  File \"/content/asr-rnn-t/src/datasets/__init__.py\", line 1, in <module>\n",
            "    from src.datasets.common_voice import CommonVoiceDataset\n",
            "  File \"/content/asr-rnn-t/src/datasets/common_voice.py\", line 9, in <module>\n",
            "    from src.datasets.base_dataset import BaseDataset\n",
            "  File \"/content/asr-rnn-t/src/datasets/base_dataset.py\", line 9, in <module>\n",
            "    from src.text_encoder import RNNTTextEncoder\n",
            "  File \"/content/asr-rnn-t/src/text_encoder/__init__.py\", line 1, in <module>\n",
            "    from src.text_encoder.rnnt_text_encoder import RNNTTextEncoder, RNNTTextEncoderBPE\n",
            "ImportError: cannot import name 'RNNTTextEncoderBPE' from 'src.text_encoder.rnnt_text_encoder' (/content/asr-rnn-t/src/text_encoder/rnnt_text_encoder.py). Did you mean: 'RNNTTextEncoder'?\n",
            "\n"
          ]
        }
      ],
      "source": [
        "import subprocess\n",
        "\n",
        "if custom_dataset_path:\n",
        "    print(f\"Running inference on custom dataset: {custom_dataset_first_dir}\")\n",
        "\n",
        "    audio_dir = custom_dataset_path / custom_dataset_first_dir / \"audio\"\n",
        "    transcriptions_dir = custom_dataset_path / custom_dataset_first_dir / \"transcriptions\"\n",
        "\n",
        "    if audio_dir.exists() and transcriptions_dir.exists():\n",
        "        print(f\"Found {len(list(audio_dir.glob('*')))} audio files\")\n",
        "        print(f\"Found {len(list(transcriptions_dir.glob('*.txt')))} transcription files\")\n",
        "\n",
        "        custom_inference_cmd = [\n",
        "            \"python\", \"inference.py\",\n",
        "            \"++inferencer.save_path=custom_inference\",\n",
        "            f\"++datasets.test.dir={custom_dataset_first_dir}\",\n",
        "            \"writer=console\"\n",
        "        ]\n",
        "\n",
        "        result = subprocess.run(custom_inference_cmd, capture_output=True, text=True, timeout=600)\n",
        "\n",
        "        if result.returncode == 0:\n",
        "            print(\"Custom dataset inference completed successfully\")\n",
        "            print(result.stdout)\n",
        "        else:\n",
        "            print(\"Custom dataset inference failed:\")\n",
        "            print(result.stderr)\n",
        "    else:\n",
        "        print(\"Error: Dataset structure is incorrect. Missing 'audio' or 'transcriptions' directories.\")\n",
        "        print(f\"Audio dir exists: {audio_dir.exists()}\")\n",
        "        print(f\"Transcriptions dir exists: {transcriptions_dir.exists()}\")\n",
        "else:\n",
        "    print(\"Skipping custom dataset inference - no dataset downloaded\")\n"
      ]
    },
    {
      "cell_type": "code",
      "execution_count": null,
      "metadata": {
        "id": "_vHUte5KD_5y"
      },
      "outputs": [],
      "source": [
        "if custom_dataset_first_dir:\n",
        "    print(\"Calculating metrics\")\n",
        "\n",
        "    custom_metrics_cmd = [\n",
        "        \"python\", \"calc_metrics.py\",\n",
        "        \"--dataset_dir\", str(custom_dataset_first_dir),\n",
        "        \"--predictions\", \"data/saved/custom_inference\",\n",
        "        \"--verbose\"\n",
        "    ]\n",
        "\n",
        "    result = subprocess.run(custom_metrics_cmd, capture_output=True, text=True, timeout=120)\n",
        "\n",
        "    if result.returncode == 0:\n",
        "        print(\"Custom dataset metrics calculation completed successfully:\")\n",
        "        print(result.stdout)\n",
        "    else:\n",
        "        print(\"Custom dataset metrics calculation failed:\")\n",
        "        print(result.stderr)\n",
        "else:\n",
        "    print(\"Skipping custom dataset metrics calculation - no dataset available\")\n"
      ]
    }
  ],
  "metadata": {
    "accelerator": "GPU",
    "colab": {
      "gpuType": "T4",
      "provenance": []
    },
    "kernelspec": {
      "display_name": "dla",
      "language": "python",
      "name": "python3"
    },
    "language_info": {
      "codemirror_mode": {
        "name": "ipython",
        "version": 3
      },
      "file_extension": ".py",
      "mimetype": "text/x-python",
      "name": "python",
      "nbconvert_exporter": "python",
      "pygments_lexer": "ipython3",
      "version": "3.10.18"
    },
    "widgets": {
      "application/vnd.jupyter.widget-state+json": {
        "152c1b911d73480eb6779fcf444617ca": {
          "model_module": "@jupyter-widgets/base",
          "model_module_version": "1.2.0",
          "model_name": "LayoutModel",
          "state": {
            "_model_module": "@jupyter-widgets/base",
            "_model_module_version": "1.2.0",
            "_model_name": "LayoutModel",
            "_view_count": null,
            "_view_module": "@jupyter-widgets/base",
            "_view_module_version": "1.2.0",
            "_view_name": "LayoutView",
            "align_content": null,
            "align_items": null,
            "align_self": null,
            "border": null,
            "bottom": null,
            "display": null,
            "flex": null,
            "flex_flow": null,
            "grid_area": null,
            "grid_auto_columns": null,
            "grid_auto_flow": null,
            "grid_auto_rows": null,
            "grid_column": null,
            "grid_gap": null,
            "grid_row": null,
            "grid_template_areas": null,
            "grid_template_columns": null,
            "grid_template_rows": null,
            "height": null,
            "justify_content": null,
            "justify_items": null,
            "left": null,
            "margin": null,
            "max_height": null,
            "max_width": null,
            "min_height": null,
            "min_width": null,
            "object_fit": null,
            "object_position": null,
            "order": null,
            "overflow": null,
            "overflow_x": null,
            "overflow_y": null,
            "padding": null,
            "right": null,
            "top": null,
            "visibility": null,
            "width": null
          }
        },
        "1ee5dd7256574b4185e978ab2e91a465": {
          "model_module": "@jupyter-widgets/base",
          "model_module_version": "1.2.0",
          "model_name": "LayoutModel",
          "state": {
            "_model_module": "@jupyter-widgets/base",
            "_model_module_version": "1.2.0",
            "_model_name": "LayoutModel",
            "_view_count": null,
            "_view_module": "@jupyter-widgets/base",
            "_view_module_version": "1.2.0",
            "_view_name": "LayoutView",
            "align_content": null,
            "align_items": null,
            "align_self": null,
            "border": null,
            "bottom": null,
            "display": null,
            "flex": null,
            "flex_flow": null,
            "grid_area": null,
            "grid_auto_columns": null,
            "grid_auto_flow": null,
            "grid_auto_rows": null,
            "grid_column": null,
            "grid_gap": null,
            "grid_row": null,
            "grid_template_areas": null,
            "grid_template_columns": null,
            "grid_template_rows": null,
            "height": null,
            "justify_content": null,
            "justify_items": null,
            "left": null,
            "margin": null,
            "max_height": null,
            "max_width": null,
            "min_height": null,
            "min_width": null,
            "object_fit": null,
            "object_position": null,
            "order": null,
            "overflow": null,
            "overflow_x": null,
            "overflow_y": null,
            "padding": null,
            "right": null,
            "top": null,
            "visibility": null,
            "width": null
          }
        },
        "25403d1bd626438584a0c59c2c44e442": {
          "model_module": "@jupyter-widgets/base",
          "model_module_version": "1.2.0",
          "model_name": "LayoutModel",
          "state": {
            "_model_module": "@jupyter-widgets/base",
            "_model_module_version": "1.2.0",
            "_model_name": "LayoutModel",
            "_view_count": null,
            "_view_module": "@jupyter-widgets/base",
            "_view_module_version": "1.2.0",
            "_view_name": "LayoutView",
            "align_content": null,
            "align_items": null,
            "align_self": null,
            "border": null,
            "bottom": null,
            "display": null,
            "flex": null,
            "flex_flow": null,
            "grid_area": null,
            "grid_auto_columns": null,
            "grid_auto_flow": null,
            "grid_auto_rows": null,
            "grid_column": null,
            "grid_gap": null,
            "grid_row": null,
            "grid_template_areas": null,
            "grid_template_columns": null,
            "grid_template_rows": null,
            "height": null,
            "justify_content": null,
            "justify_items": null,
            "left": null,
            "margin": null,
            "max_height": null,
            "max_width": null,
            "min_height": null,
            "min_width": null,
            "object_fit": null,
            "object_position": null,
            "order": null,
            "overflow": null,
            "overflow_x": null,
            "overflow_y": null,
            "padding": null,
            "right": null,
            "top": null,
            "visibility": null,
            "width": null
          }
        },
        "31bc55dc37c140ceb66b840a2eae2a75": {
          "model_module": "@jupyter-widgets/base",
          "model_module_version": "1.2.0",
          "model_name": "LayoutModel",
          "state": {
            "_model_module": "@jupyter-widgets/base",
            "_model_module_version": "1.2.0",
            "_model_name": "LayoutModel",
            "_view_count": null,
            "_view_module": "@jupyter-widgets/base",
            "_view_module_version": "1.2.0",
            "_view_name": "LayoutView",
            "align_content": null,
            "align_items": null,
            "align_self": null,
            "border": null,
            "bottom": null,
            "display": null,
            "flex": null,
            "flex_flow": null,
            "grid_area": null,
            "grid_auto_columns": null,
            "grid_auto_flow": null,
            "grid_auto_rows": null,
            "grid_column": null,
            "grid_gap": null,
            "grid_row": null,
            "grid_template_areas": null,
            "grid_template_columns": null,
            "grid_template_rows": null,
            "height": null,
            "justify_content": null,
            "justify_items": null,
            "left": null,
            "margin": null,
            "max_height": null,
            "max_width": null,
            "min_height": null,
            "min_width": null,
            "object_fit": null,
            "object_position": null,
            "order": null,
            "overflow": null,
            "overflow_x": null,
            "overflow_y": null,
            "padding": null,
            "right": null,
            "top": null,
            "visibility": null,
            "width": null
          }
        },
        "34fc9cb60a2249d6ae862a9c7e9228eb": {
          "model_module": "@jupyter-widgets/base",
          "model_module_version": "1.2.0",
          "model_name": "LayoutModel",
          "state": {
            "_model_module": "@jupyter-widgets/base",
            "_model_module_version": "1.2.0",
            "_model_name": "LayoutModel",
            "_view_count": null,
            "_view_module": "@jupyter-widgets/base",
            "_view_module_version": "1.2.0",
            "_view_name": "LayoutView",
            "align_content": null,
            "align_items": null,
            "align_self": null,
            "border": null,
            "bottom": null,
            "display": null,
            "flex": null,
            "flex_flow": null,
            "grid_area": null,
            "grid_auto_columns": null,
            "grid_auto_flow": null,
            "grid_auto_rows": null,
            "grid_column": null,
            "grid_gap": null,
            "grid_row": null,
            "grid_template_areas": null,
            "grid_template_columns": null,
            "grid_template_rows": null,
            "height": null,
            "justify_content": null,
            "justify_items": null,
            "left": null,
            "margin": null,
            "max_height": null,
            "max_width": null,
            "min_height": null,
            "min_width": null,
            "object_fit": null,
            "object_position": null,
            "order": null,
            "overflow": null,
            "overflow_x": null,
            "overflow_y": null,
            "padding": null,
            "right": null,
            "top": null,
            "visibility": null,
            "width": "20px"
          }
        },
        "3b291cc2226c4615b2760cee789de28b": {
          "model_module": "@jupyter-widgets/controls",
          "model_module_version": "1.5.0",
          "model_name": "DescriptionStyleModel",
          "state": {
            "_model_module": "@jupyter-widgets/controls",
            "_model_module_version": "1.5.0",
            "_model_name": "DescriptionStyleModel",
            "_view_count": null,
            "_view_module": "@jupyter-widgets/base",
            "_view_module_version": "1.2.0",
            "_view_name": "StyleView",
            "description_width": ""
          }
        },
        "450cfa7175844c738d711c3fdd939f2b": {
          "model_module": "@jupyter-widgets/base",
          "model_module_version": "1.2.0",
          "model_name": "LayoutModel",
          "state": {
            "_model_module": "@jupyter-widgets/base",
            "_model_module_version": "1.2.0",
            "_model_name": "LayoutModel",
            "_view_count": null,
            "_view_module": "@jupyter-widgets/base",
            "_view_module_version": "1.2.0",
            "_view_name": "LayoutView",
            "align_content": null,
            "align_items": null,
            "align_self": null,
            "border": null,
            "bottom": null,
            "display": null,
            "flex": null,
            "flex_flow": null,
            "grid_area": null,
            "grid_auto_columns": null,
            "grid_auto_flow": null,
            "grid_auto_rows": null,
            "grid_column": null,
            "grid_gap": null,
            "grid_row": null,
            "grid_template_areas": null,
            "grid_template_columns": null,
            "grid_template_rows": null,
            "height": null,
            "justify_content": null,
            "justify_items": null,
            "left": null,
            "margin": null,
            "max_height": null,
            "max_width": null,
            "min_height": null,
            "min_width": null,
            "object_fit": null,
            "object_position": null,
            "order": null,
            "overflow": null,
            "overflow_x": null,
            "overflow_y": null,
            "padding": null,
            "right": null,
            "top": null,
            "visibility": null,
            "width": null
          }
        },
        "4daca33a98144a72a48d793ccd599f8c": {
          "model_module": "@jupyter-widgets/controls",
          "model_module_version": "1.5.0",
          "model_name": "FloatProgressModel",
          "state": {
            "_dom_classes": [],
            "_model_module": "@jupyter-widgets/controls",
            "_model_module_version": "1.5.0",
            "_model_name": "FloatProgressModel",
            "_view_count": null,
            "_view_module": "@jupyter-widgets/controls",
            "_view_module_version": "1.5.0",
            "_view_name": "ProgressView",
            "bar_style": "success",
            "description": "",
            "description_tooltip": null,
            "layout": "IPY_MODEL_34fc9cb60a2249d6ae862a9c7e9228eb",
            "max": 1,
            "min": 0,
            "orientation": "horizontal",
            "style": "IPY_MODEL_5da89824f9684e3da25ad4e592191b8e",
            "value": 1
          }
        },
        "5da89824f9684e3da25ad4e592191b8e": {
          "model_module": "@jupyter-widgets/controls",
          "model_module_version": "1.5.0",
          "model_name": "ProgressStyleModel",
          "state": {
            "_model_module": "@jupyter-widgets/controls",
            "_model_module_version": "1.5.0",
            "_model_name": "ProgressStyleModel",
            "_view_count": null,
            "_view_module": "@jupyter-widgets/base",
            "_view_module_version": "1.2.0",
            "_view_name": "StyleView",
            "bar_color": null,
            "description_width": ""
          }
        },
        "7b658bd22c4748a2b73322db419c5bef": {
          "model_module": "@jupyter-widgets/controls",
          "model_module_version": "1.5.0",
          "model_name": "DescriptionStyleModel",
          "state": {
            "_model_module": "@jupyter-widgets/controls",
            "_model_module_version": "1.5.0",
            "_model_name": "DescriptionStyleModel",
            "_view_count": null,
            "_view_module": "@jupyter-widgets/base",
            "_view_module_version": "1.2.0",
            "_view_name": "StyleView",
            "description_width": ""
          }
        },
        "7d40f060c8bb4f7e9ba796da81c599a5": {
          "model_module": "@jupyter-widgets/base",
          "model_module_version": "1.2.0",
          "model_name": "LayoutModel",
          "state": {
            "_model_module": "@jupyter-widgets/base",
            "_model_module_version": "1.2.0",
            "_model_name": "LayoutModel",
            "_view_count": null,
            "_view_module": "@jupyter-widgets/base",
            "_view_module_version": "1.2.0",
            "_view_name": "LayoutView",
            "align_content": null,
            "align_items": null,
            "align_self": null,
            "border": null,
            "bottom": null,
            "display": null,
            "flex": null,
            "flex_flow": null,
            "grid_area": null,
            "grid_auto_columns": null,
            "grid_auto_flow": null,
            "grid_auto_rows": null,
            "grid_column": null,
            "grid_gap": null,
            "grid_row": null,
            "grid_template_areas": null,
            "grid_template_columns": null,
            "grid_template_rows": null,
            "height": null,
            "justify_content": null,
            "justify_items": null,
            "left": null,
            "margin": null,
            "max_height": null,
            "max_width": null,
            "min_height": null,
            "min_width": null,
            "object_fit": null,
            "object_position": null,
            "order": null,
            "overflow": null,
            "overflow_x": null,
            "overflow_y": null,
            "padding": null,
            "right": null,
            "top": null,
            "visibility": null,
            "width": null
          }
        },
        "8f60169915644476ab40007fea383008": {
          "model_module": "@jupyter-widgets/controls",
          "model_module_version": "1.5.0",
          "model_name": "HBoxModel",
          "state": {
            "_dom_classes": [],
            "_model_module": "@jupyter-widgets/controls",
            "_model_module_version": "1.5.0",
            "_model_name": "HBoxModel",
            "_view_count": null,
            "_view_module": "@jupyter-widgets/controls",
            "_view_module_version": "1.5.0",
            "_view_name": "HBoxView",
            "box_style": "",
            "children": [
              "IPY_MODEL_f6da731e0e44491b8d115f050e78a2a2",
              "IPY_MODEL_4daca33a98144a72a48d793ccd599f8c",
              "IPY_MODEL_f7970314f0474b02a7b1205b22495fcd"
            ],
            "layout": "IPY_MODEL_152c1b911d73480eb6779fcf444617ca"
          }
        },
        "945c0c1c39294c99a57f46b53a802a18": {
          "model_module": "@jupyter-widgets/controls",
          "model_module_version": "1.5.0",
          "model_name": "HTMLModel",
          "state": {
            "_dom_classes": [],
            "_model_module": "@jupyter-widgets/controls",
            "_model_module_version": "1.5.0",
            "_model_name": "HTMLModel",
            "_view_count": null,
            "_view_module": "@jupyter-widgets/controls",
            "_view_module_version": "1.5.0",
            "_view_name": "HTMLView",
            "description": "",
            "description_tooltip": null,
            "layout": "IPY_MODEL_1ee5dd7256574b4185e978ab2e91a465",
            "placeholder": "​",
            "style": "IPY_MODEL_7b658bd22c4748a2b73322db419c5bef",
            "value": "model_best.pth: 100%"
          }
        },
        "a86ba4abb4904e4585be72dd3c5f11c6": {
          "model_module": "@jupyter-widgets/controls",
          "model_module_version": "1.5.0",
          "model_name": "DescriptionStyleModel",
          "state": {
            "_model_module": "@jupyter-widgets/controls",
            "_model_module_version": "1.5.0",
            "_model_name": "DescriptionStyleModel",
            "_view_count": null,
            "_view_module": "@jupyter-widgets/base",
            "_view_module_version": "1.2.0",
            "_view_name": "StyleView",
            "description_width": ""
          }
        },
        "aeb8b93f9662497784261018cd49ac6e": {
          "model_module": "@jupyter-widgets/controls",
          "model_module_version": "1.5.0",
          "model_name": "FloatProgressModel",
          "state": {
            "_dom_classes": [],
            "_model_module": "@jupyter-widgets/controls",
            "_model_module_version": "1.5.0",
            "_model_name": "FloatProgressModel",
            "_view_count": null,
            "_view_module": "@jupyter-widgets/controls",
            "_view_module_version": "1.5.0",
            "_view_name": "ProgressView",
            "bar_style": "success",
            "description": "",
            "description_tooltip": null,
            "layout": "IPY_MODEL_31bc55dc37c140ceb66b840a2eae2a75",
            "max": 116979327,
            "min": 0,
            "orientation": "horizontal",
            "style": "IPY_MODEL_c27adbf54546424cb68651d9ac29dcf1",
            "value": 116979327
          }
        },
        "c27adbf54546424cb68651d9ac29dcf1": {
          "model_module": "@jupyter-widgets/controls",
          "model_module_version": "1.5.0",
          "model_name": "ProgressStyleModel",
          "state": {
            "_model_module": "@jupyter-widgets/controls",
            "_model_module_version": "1.5.0",
            "_model_name": "ProgressStyleModel",
            "_view_count": null,
            "_view_module": "@jupyter-widgets/base",
            "_view_module_version": "1.2.0",
            "_view_name": "StyleView",
            "bar_color": null,
            "description_width": ""
          }
        },
        "cc2c2c20674749ec93bb52dda187cbd6": {
          "model_module": "@jupyter-widgets/controls",
          "model_module_version": "1.5.0",
          "model_name": "HBoxModel",
          "state": {
            "_dom_classes": [],
            "_model_module": "@jupyter-widgets/controls",
            "_model_module_version": "1.5.0",
            "_model_name": "HBoxModel",
            "_view_count": null,
            "_view_module": "@jupyter-widgets/controls",
            "_view_module_version": "1.5.0",
            "_view_name": "HBoxView",
            "box_style": "",
            "children": [
              "IPY_MODEL_945c0c1c39294c99a57f46b53a802a18",
              "IPY_MODEL_aeb8b93f9662497784261018cd49ac6e",
              "IPY_MODEL_f506d4f0d5c24b08a03a0dd6fe1603bb"
            ],
            "layout": "IPY_MODEL_7d40f060c8bb4f7e9ba796da81c599a5"
          }
        },
        "ef548e9c257d49d0b7c444743b06f53e": {
          "model_module": "@jupyter-widgets/base",
          "model_module_version": "1.2.0",
          "model_name": "LayoutModel",
          "state": {
            "_model_module": "@jupyter-widgets/base",
            "_model_module_version": "1.2.0",
            "_model_name": "LayoutModel",
            "_view_count": null,
            "_view_module": "@jupyter-widgets/base",
            "_view_module_version": "1.2.0",
            "_view_name": "LayoutView",
            "align_content": null,
            "align_items": null,
            "align_self": null,
            "border": null,
            "bottom": null,
            "display": null,
            "flex": null,
            "flex_flow": null,
            "grid_area": null,
            "grid_auto_columns": null,
            "grid_auto_flow": null,
            "grid_auto_rows": null,
            "grid_column": null,
            "grid_gap": null,
            "grid_row": null,
            "grid_template_areas": null,
            "grid_template_columns": null,
            "grid_template_rows": null,
            "height": null,
            "justify_content": null,
            "justify_items": null,
            "left": null,
            "margin": null,
            "max_height": null,
            "max_width": null,
            "min_height": null,
            "min_width": null,
            "object_fit": null,
            "object_position": null,
            "order": null,
            "overflow": null,
            "overflow_x": null,
            "overflow_y": null,
            "padding": null,
            "right": null,
            "top": null,
            "visibility": null,
            "width": null
          }
        },
        "f506d4f0d5c24b08a03a0dd6fe1603bb": {
          "model_module": "@jupyter-widgets/controls",
          "model_module_version": "1.5.0",
          "model_name": "HTMLModel",
          "state": {
            "_dom_classes": [],
            "_model_module": "@jupyter-widgets/controls",
            "_model_module_version": "1.5.0",
            "_model_name": "HTMLModel",
            "_view_count": null,
            "_view_module": "@jupyter-widgets/controls",
            "_view_module_version": "1.5.0",
            "_view_name": "HTMLView",
            "description": "",
            "description_tooltip": null,
            "layout": "IPY_MODEL_25403d1bd626438584a0c59c2c44e442",
            "placeholder": "​",
            "style": "IPY_MODEL_a86ba4abb4904e4585be72dd3c5f11c6",
            "value": " 117M/117M [00:02&lt;00:00, 49.8MB/s]"
          }
        },
        "f6da731e0e44491b8d115f050e78a2a2": {
          "model_module": "@jupyter-widgets/controls",
          "model_module_version": "1.5.0",
          "model_name": "HTMLModel",
          "state": {
            "_dom_classes": [],
            "_model_module": "@jupyter-widgets/controls",
            "_model_module_version": "1.5.0",
            "_model_name": "HTMLModel",
            "_view_count": null,
            "_view_module": "@jupyter-widgets/controls",
            "_view_module_version": "1.5.0",
            "_view_name": "HTMLView",
            "description": "",
            "description_tooltip": null,
            "layout": "IPY_MODEL_ef548e9c257d49d0b7c444743b06f53e",
            "placeholder": "​",
            "style": "IPY_MODEL_f99221a92a84488ea95b9a6fdc702eb6",
            "value": "config.yaml: "
          }
        },
        "f7970314f0474b02a7b1205b22495fcd": {
          "model_module": "@jupyter-widgets/controls",
          "model_module_version": "1.5.0",
          "model_name": "HTMLModel",
          "state": {
            "_dom_classes": [],
            "_model_module": "@jupyter-widgets/controls",
            "_model_module_version": "1.5.0",
            "_model_name": "HTMLModel",
            "_view_count": null,
            "_view_module": "@jupyter-widgets/controls",
            "_view_module_version": "1.5.0",
            "_view_name": "HTMLView",
            "description": "",
            "description_tooltip": null,
            "layout": "IPY_MODEL_450cfa7175844c738d711c3fdd939f2b",
            "placeholder": "​",
            "style": "IPY_MODEL_3b291cc2226c4615b2760cee789de28b",
            "value": " 4.12k/? [00:00&lt;00:00, 402kB/s]"
          }
        },
        "f99221a92a84488ea95b9a6fdc702eb6": {
          "model_module": "@jupyter-widgets/controls",
          "model_module_version": "1.5.0",
          "model_name": "DescriptionStyleModel",
          "state": {
            "_model_module": "@jupyter-widgets/controls",
            "_model_module_version": "1.5.0",
            "_model_name": "DescriptionStyleModel",
            "_view_count": null,
            "_view_module": "@jupyter-widgets/base",
            "_view_module_version": "1.2.0",
            "_view_name": "StyleView",
            "description_width": ""
          }
        }
      }
    }
  },
  "nbformat": 4,
  "nbformat_minor": 0
}
